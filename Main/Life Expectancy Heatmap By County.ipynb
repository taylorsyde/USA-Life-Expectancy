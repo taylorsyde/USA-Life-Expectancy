{
 "cells": [
  {
   "cell_type": "markdown",
   "id": "ed8c5a5e",
   "metadata": {},
   "source": [
    "Import Dependancies"
   ]
  },
  {
   "cell_type": "code",
   "execution_count": 38,
   "id": "9ca5fdab",
   "metadata": {},
   "outputs": [],
   "source": [
    "# Dependencies\n",
    "from config import (gkey)\n",
    "import gmaps\n",
    "import numpy as np\n",
    "import pandas as pd\n",
    "import requests\n",
    "import time\n",
    "from scipy.stats import linregress\n",
    "from matplotlib import pyplot as plt\n",
    "from ipywidgets.embed import embed_minimal_html\n",
    "\n",
    "# Incorporated citipy to determine city based on latitude and longitude\n",
    "from citipy import citipy\n",
    "\n",
    "#import cleaned county data\n",
    "county_data = pd.read_csv(\"Tay_Resources/state_county_w_loc.csv\")\n",
    "\n",
    "county_data[\"Life Exp Avg\"]=((county_data[\"Difference in male life expectancy, 1985-2010 (years)\"]+county_data[\"Difference in female life expectancy, 1985-2010 (years)\"])/2)"
   ]
  },
  {
   "cell_type": "code",
   "execution_count": 22,
   "id": "9d0b8831",
   "metadata": {},
   "outputs": [],
   "source": [
    "county_geo_data = pd.read_csv(\"Tay_Resources/county_geo_data_clean.csv\")"
   ]
  },
  {
   "cell_type": "code",
   "execution_count": 28,
   "id": "5f2447ab",
   "metadata": {},
   "outputs": [
    {
     "data": {
      "text/plain": [
       "Index(['County_x', 'county_fips', 'state_name', 'Location', 'lat', 'lng',\n",
       "       'population', 'Unnamed: 0', 'State', 'County_y',\n",
       "       'Male life expectancy, 1985 (years)',\n",
       "       'Female life expectancy, 1985 (years)',\n",
       "       'Male life expectancy, 1990 (years)',\n",
       "       'Female life expectancy, 1990 (years)',\n",
       "       'Male life expectancy, 1995 (years)',\n",
       "       'Female life expectancy, 1995 (years)',\n",
       "       'Male life expectancy, 2000 (years)',\n",
       "       'Female life expectancy, 2000 (years)',\n",
       "       'Male life expectancy, 2005 (years)',\n",
       "       'Female life expectancy, 2005 (years)',\n",
       "       'Male life expectancy, 2010 (years)',\n",
       "       'Female life expectancy, 2010 (years)',\n",
       "       'Difference in male life expectancy, 1985-2010 (years)',\n",
       "       'Difference in female life expectancy, 1985-2010 (years)',\n",
       "       'Life Exp Avg'],\n",
       "      dtype='object')"
      ]
     },
     "execution_count": 28,
     "metadata": {},
     "output_type": "execute_result"
    }
   ],
   "source": [
    "complete_county_data = pd.merge(county_geo_data, county_data, on='Location')"
   ]
  },
  {
   "cell_type": "code",
   "execution_count": 24,
   "id": "86df4a9a",
   "metadata": {},
   "outputs": [],
   "source": [
    "# Configure gmaps with API key\n",
    "gmaps.configure(api_key=gkey)"
   ]
  },
  {
   "cell_type": "markdown",
   "id": "92afa123",
   "metadata": {},
   "source": [
    "## Average Growth in Life Expectancy"
   ]
  },
  {
   "cell_type": "code",
   "execution_count": 42,
   "id": "992d599d",
   "metadata": {},
   "outputs": [
    {
     "data": {
      "application/vnd.jupyter.widget-view+json": {
       "model_id": "4d4f73a590af406f8a740fe340c55583",
       "version_major": 2,
       "version_minor": 0
      },
      "text/plain": [
       "Figure(layout=FigureLayout(height='420px'))"
      ]
     },
     "metadata": {},
     "output_type": "display_data"
    }
   ],
   "source": [
    "# Store 'Lat' and 'Lng' into  locations \n",
    "locations = complete_county_data[[\"lat\", \"lng\"]]\n",
    "#life_ex = clean_weather_data['Humidity (%)']\n",
    "\n",
    "fig1 = gmaps.figure()\n",
    "\n",
    "heat_layer = gmaps.heatmap_layer(locations, weights=complete_county_data[\"Life Exp Avg\"],\n",
    "                                 dissipating=False, max_intensity=15,\n",
    "                                 point_radius = 2)\n",
    "\n",
    "fig1.add_layer(heat_layer)\n",
    "\n",
    "embed_minimal_html('export.html', views=[fig1])\n",
    "\n",
    "fig1"
   ]
  }
 ],
 "metadata": {
  "kernelspec": {
   "display_name": "PythonData",
   "language": "python",
   "name": "pythondata"
  },
  "language_info": {
   "codemirror_mode": {
    "name": "ipython",
    "version": 3
   },
   "file_extension": ".py",
   "mimetype": "text/x-python",
   "name": "python",
   "nbconvert_exporter": "python",
   "pygments_lexer": "ipython3",
   "version": "3.8.8"
  }
 },
 "nbformat": 4,
 "nbformat_minor": 5
}
