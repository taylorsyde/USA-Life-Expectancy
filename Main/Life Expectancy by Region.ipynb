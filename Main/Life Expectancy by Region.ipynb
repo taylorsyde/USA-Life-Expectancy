{
 "cells": [
  {
   "cell_type": "code",
   "execution_count": 2,
   "id": "4eddc8eb",
   "metadata": {},
   "outputs": [],
   "source": [
    "# Dependencies and Setup\n",
    "import matplotlib.pyplot as plt\n",
    "import pandas as pd\n",
    "import numpy as np\n",
    "\n",
    "Northeast_life_expect = pd.read_csv(\"../Matthew/Data_csv/Northeast_life_expect.csv\")\n",
    "Southeast_life_expect = pd.read_csv(\"../Matthew/Data_csv/Southeast_life_expect.csv\")\n",
    "Midwest_life_expect = pd.read_csv(\"../Matthew/Data_csv/Midwest_life_expect.csv\")\n",
    "Southwest_life_expect = pd.read_csv(\"../Matthew/Data_csv/Southwest_life_expect.csv\")\n",
    "West_life_expect = pd.read_csv(\"../Matthew/Data_csv/West_life_expect.csv\")"
   ]
  },
  {
   "cell_type": "code",
   "execution_count": 3,
   "id": "c56c0d5d",
   "metadata": {},
   "outputs": [],
   "source": [
    "#find average life expectancy for each region\n",
    "ne_mean = Northeast_life_expect.mean()\n",
    "se_mean = Southeast_life_expect.mean()\n",
    "mw_mean = Midwest_life_expect.mean()\n",
    "sw_mean = Southwest_life_expect.mean()\n",
    "we_mean = West_life_expect.mean()"
   ]
  },
  {
   "cell_type": "code",
   "execution_count": 4,
   "id": "78c6bda9",
   "metadata": {},
   "outputs": [],
   "source": [
    "#create dateframe\n",
    "life_by_region = pd.DataFrame({\n",
    "    \"Northeast\": ne_mean,\n",
    "    \"Southeast\": se_mean,\n",
    "    \"Midwest\": mw_mean,\n",
    "    \"Southwest\": sw_mean,\n",
    "    \"West\": we_mean\n",
    "})\n",
    "\n",
    "life_by_region = life_by_region.T"
   ]
  },
  {
   "cell_type": "code",
   "execution_count": 5,
   "id": "4f6c61cc",
   "metadata": {},
   "outputs": [],
   "source": [
    "#find total average\n",
    "life_by_region['1985'] = ((life_by_region['Male life expectancy, 1985 (years)'] + \n",
    "                           life_by_region['Female life expectancy, 1985 (years)'])/2)\n",
    "\n",
    "life_by_region['1990'] = ((life_by_region['Male life expectancy, 1990 (years)'] + \n",
    "                           life_by_region['Female life expectancy, 1990 (years)'])/2)\n",
    "\n",
    "life_by_region['2000'] = ((life_by_region['Male life expectancy, 2000 (years)'] + \n",
    "                           life_by_region['Female life expectancy, 2000 (years)'])/2)\n",
    "\n",
    "life_by_region['2005'] = ((life_by_region['Male life expectancy, 2005 (years)'] + \n",
    "                           life_by_region['Female life expectancy, 2005 (years)'])/2)\n",
    "\n",
    "life_by_region['2010'] = ((life_by_region['Male life expectancy, 2010 (years)'] + \n",
    "                           life_by_region['Female life expectancy, 2010 (years)'])/2)"
   ]
  },
  {
   "cell_type": "code",
   "execution_count": 6,
   "id": "0c263f37",
   "metadata": {},
   "outputs": [
    {
     "data": {
      "text/html": [
       "<div>\n",
       "<style scoped>\n",
       "    .dataframe tbody tr th:only-of-type {\n",
       "        vertical-align: middle;\n",
       "    }\n",
       "\n",
       "    .dataframe tbody tr th {\n",
       "        vertical-align: top;\n",
       "    }\n",
       "\n",
       "    .dataframe thead th {\n",
       "        text-align: right;\n",
       "    }\n",
       "</style>\n",
       "<table border=\"1\" class=\"dataframe\">\n",
       "  <thead>\n",
       "    <tr style=\"text-align: right;\">\n",
       "      <th></th>\n",
       "      <th>Northeast</th>\n",
       "      <th>Southeast</th>\n",
       "      <th>Midwest</th>\n",
       "      <th>Southwest</th>\n",
       "      <th>West</th>\n",
       "    </tr>\n",
       "  </thead>\n",
       "  <tbody>\n",
       "    <tr>\n",
       "      <th>1985</th>\n",
       "      <td>74.522727</td>\n",
       "      <td>73.216667</td>\n",
       "      <td>75.204167</td>\n",
       "      <td>74.7000</td>\n",
       "      <td>75.540909</td>\n",
       "    </tr>\n",
       "    <tr>\n",
       "      <th>1990</th>\n",
       "      <td>75.386364</td>\n",
       "      <td>73.666667</td>\n",
       "      <td>75.800000</td>\n",
       "      <td>75.2125</td>\n",
       "      <td>76.177273</td>\n",
       "    </tr>\n",
       "    <tr>\n",
       "      <th>2000</th>\n",
       "      <td>77.327273</td>\n",
       "      <td>74.900000</td>\n",
       "      <td>77.087500</td>\n",
       "      <td>76.4000</td>\n",
       "      <td>77.590909</td>\n",
       "    </tr>\n",
       "    <tr>\n",
       "      <th>2005</th>\n",
       "      <td>78.181818</td>\n",
       "      <td>75.375000</td>\n",
       "      <td>77.745833</td>\n",
       "      <td>76.8125</td>\n",
       "      <td>78.195455</td>\n",
       "    </tr>\n",
       "    <tr>\n",
       "      <th>2010</th>\n",
       "      <td>79.259091</td>\n",
       "      <td>76.312500</td>\n",
       "      <td>78.516667</td>\n",
       "      <td>77.7125</td>\n",
       "      <td>79.109091</td>\n",
       "    </tr>\n",
       "  </tbody>\n",
       "</table>\n",
       "</div>"
      ],
      "text/plain": [
       "      Northeast  Southeast    Midwest  Southwest       West\n",
       "1985  74.522727  73.216667  75.204167    74.7000  75.540909\n",
       "1990  75.386364  73.666667  75.800000    75.2125  76.177273\n",
       "2000  77.327273  74.900000  77.087500    76.4000  77.590909\n",
       "2005  78.181818  75.375000  77.745833    76.8125  78.195455\n",
       "2010  79.259091  76.312500  78.516667    77.7125  79.109091"
      ]
     },
     "execution_count": 6,
     "metadata": {},
     "output_type": "execute_result"
    }
   ],
   "source": [
    "#clean dataframe and prep for plotting\n",
    "life_by_region = life_by_region[['1985','1990', '2000', '2005', '2010']]\n",
    "life_by_region = life_by_region.T\n",
    "life_by_region"
   ]
  },
  {
   "cell_type": "code",
   "execution_count": 17,
   "id": "d0282e20",
   "metadata": {},
   "outputs": [
    {
     "data": {
      "text/plain": [
       "<function matplotlib.pyplot.show(close=None, block=None)>"
      ]
     },
     "execution_count": 17,
     "metadata": {},
     "output_type": "execute_result"
    },
    {
     "data": {
      "image/png": "[encoded data removed]",
      "text/plain": [
       "<Figure size 432x288 with 1 Axes>"
      ]
     },
     "metadata": {
      "needs_background": "light"
     },
     "output_type": "display_data"
    }
   ],
   "source": [
    "#plot\n",
    "years = ['1985','1990', '2000', '2005', '2010']\n",
    "\n",
    "ne_life = plt.plot(years, life_by_region['Northeast'], color=\"darkorange\", label='Northeast')\n",
    "se_life = plt.plot(years, life_by_region['Southeast'], color=\"mediumvioletred\", label='Southeast')\n",
    "mw_life = plt.plot(years, life_by_region['Midwest'], color=\"limegreen\", label='Midwest')\n",
    "sw_life = plt.plot(years, life_by_region['Southwest'], color=\"gold\", label='Southwest')\n",
    "we_life = plt.plot(years, life_by_region['West'], color=\"mediumslateblue\", label='West')\n",
    "\n",
    "plt.figsize=(9,6)\n",
    "plt.legend(loc=\"best\")\n",
    "plt.title('Life Expectancy by Region (1985 - 2010)')\n",
    "plt.xlabel('Years')\n",
    "plt.ylabel('Average Life Expectancy')\n",
    "plt.grid()\n",
    "\n",
    "plt.savefig('Outputs/Life Expectancy by Region', pad_inches=0.1, facecolor='w')\n",
    "plt.show"
   ]
  },
  {
   "cell_type": "code",
   "execution_count": 18,
   "id": "2a365889",
   "metadata": {
    "scrolled": true
   },
   "outputs": [
    {
     "data": {
      "text/plain": [
       "<AxesSubplot:>"
      ]
     },
     "execution_count": 18,
     "metadata": {},
     "output_type": "execute_result"
    },
    {
     "data": {
      "image/png": "[encoded data removed]",
      "text/plain": [
       "<Figure size 432x288 with 1 Axes>"
      ]
     },
     "metadata": {
      "needs_background": "light"
     },
     "output_type": "display_data"
    }
   ],
   "source": [
    "life_by_region.plot(kind='bar',ylim=(72,80))"
   ]
  },
  {
   "cell_type": "code",
   "execution_count": null,
   "id": "cff81aff",
   "metadata": {},
   "outputs": [],
   "source": []
  },
  {
   "cell_type": "code",
   "execution_count": null,
   "id": "6f93111f",
   "metadata": {},
   "outputs": [],
   "source": []
  },
  {
   "cell_type": "code",
   "execution_count": null,
   "id": "12682888",
   "metadata": {},
   "outputs": [],
   "source": []
  }
 ],
 "metadata": {
  "kernelspec": {
   "display_name": "PythonData",
   "language": "python",
   "name": "pythondata"
  },
  "language_info": {
   "codemirror_mode": {
    "name": "ipython",
    "version": 3
   },
   "file_extension": ".py",
   "mimetype": "text/x-python",
   "name": "python",
   "nbconvert_exporter": "python",
   "pygments_lexer": "ipython3",
   "version": "3.8.8"
  }
 },
 "nbformat": 4,
 "nbformat_minor": 5
}
